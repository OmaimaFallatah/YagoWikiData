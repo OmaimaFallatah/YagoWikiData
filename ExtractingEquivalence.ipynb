{
 "cells": [
  {
   "cell_type": "code",
   "execution_count": null,
   "id": "9698423d-d1f8-457d-ab5f-9caac1324ce0",
   "metadata": {},
   "outputs": [],
   "source": [
    "from rdflib import Graph, Dataset, URIRef, Literal, Namespace, RDF, XSD\n",
    "from rdflib.namespace import OWL, RDF, RDFS\n",
    "from iribaker import to_iri\n",
    "import  pandas as pd\n",
    "import logging\n",
    "from parse import *"
   ]
  },
  {
   "cell_type": "code",
   "execution_count": null,
   "id": "3f628af6-42c4-4c53-a00c-7b7402a86a8a",
   "metadata": {},
   "outputs": [],
   "source": [
    "from SPARQLWrapper import SPARQLWrapper, JSON\n",
    "def getWDLabel(uri):\n",
    "    sparq1=SPARQLWrapper(\"https://wikidata.demo.openlinksw.com/sparql\")\n",
    "    queryString= \"\"\"\n",
    "        PREFIX rdfs: <http://www.w3.org/2000/01/rdf-schema#> \n",
    "        PREFIX wd: <http://www.wikidata.org/entity/> \n",
    "        SELECT  *\n",
    "        WHERE {\n",
    "        %s rdfs:label ?label .\n",
    "        FILTER (langMatches( lang(?label), \"EN\" ) )\n",
    "      } \n",
    "      limit 1\n",
    "      \"\"\"%(uri)\n",
    "    sparq1.setQuery (queryString)\n",
    "    sparq1.setReturnFormat(JSON)\n",
    "    results=sparq1.query().convert()\n",
    "    for r in results[\"results\"][\"bindings\"]:\n",
    "        return(r[\"label\"][\"value\"])\n",
    "    \n",
    "    \n",
    "def GetClassLabel(URIString):\n",
    "    if len(URIString.split(':')) > 2:\n",
    "        Label = URIString.split(':')[-1]\n",
    "    else:\n",
    "        Label = URIString.split('/')[-1]\n",
    "    return Label\n",
    "    \n"
   ]
  },
  {
   "cell_type": "code",
   "execution_count": null,
   "id": "94e0ee58-9e08-49ba-9922-8f247731e590",
   "metadata": {},
   "outputs": [],
   "source": [
    "mapping = pd.read_csv('wd2schema-std.csv')\n",
    "mapping = mapping[mapping['reltype'] == 'equivClass']\n",
    "mapping = mapping.reset_index()\n",
    "\n",
    "mapping = mapping[['sch_id', 'wd_id']]\n",
    "mapping['sch_cname']=mapping['sch_id']\n",
    "mapping['wd_cname']= mapping['wd_id']\n",
    "\n",
    "mapping['wd_id'] = [\"http://www.wikidata.org/wiki/\" + i for i in mapping['wd_id']]\n",
    "mapping['sch_id'] = [\"http://schema.org/\" + i for i in mapping['sch_id']]\n",
    "\n",
    "#mapping2=pd.read_csv('wd_class_name_mapping.csv', index_col=0)\n",
    "mapping['sch_cname']=[GetClassLabel(i) for i in mapping['sch_id']]\n",
    "#mapping2['wd_id']=mapping['wd_id']\n",
    "\n",
    "mapping['wd_id']=[str(i.rsplit('/',1)[0])+ '/'+str(getWDLabel('wd:'+(i.rsplit('/',1)[1]))).replace(\" \", \"_\").lower() for i in mapping['wd_id']]\n",
    "\n",
    "\n",
    "mapping"
   ]
  },
  {
   "cell_type": "code",
   "execution_count": null,
   "id": "9a834bd0-a9d2-4b52-bb77-a005ba99a880",
   "metadata": {},
   "outputs": [],
   "source": [
    "#Removing 2-to-1 mappings\n",
    "Del=['AdministrativeArea', 'BarOrPub', 'Physiotherapy','PhysicalTherapy', 'Place', 'BodyOfWater', 'Service']\n",
    "mapping=mapping[~mapping['sch_cname'].isin(Del)]\n",
    "mapping = mapping.reset_index(drop=True)\n",
    "mapping.to_csv('wd_class_name_mapping.csv')"
   ]
  }
 ],
 "metadata": {
  "kernelspec": {
   "display_name": "Python 3",
   "language": "python",
   "name": "python3"
  },
  "language_info": {
   "codemirror_mode": {
    "name": "ipython",
    "version": 3
   },
   "file_extension": ".py",
   "mimetype": "text/x-python",
   "name": "python",
   "nbconvert_exporter": "python",
   "pygments_lexer": "ipython3",
   "version": "3.8.8"
  }
 },
 "nbformat": 4,
 "nbformat_minor": 5
}
