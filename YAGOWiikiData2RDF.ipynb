{
 "cells": [
  {
   "cell_type": "code",
   "execution_count": 1,
   "id": "e5c764d9-64f7-4617-97cf-be548d5c8a61",
   "metadata": {},
   "outputs": [
    {
     "name": "stdout",
     "output_type": "stream",
     "text": [
      "Requirement already satisfied: parse in /home/omaima/anaconda3/lib/python3.8/site-packages (1.19.0)\n",
      "Requirement already satisfied: iribaker in /home/omaima/anaconda3/lib/python3.8/site-packages (0.2)\n",
      "Requirement already satisfied: rfc3987 in /home/omaima/anaconda3/lib/python3.8/site-packages (from iribaker) (1.3.8)\n"
     ]
    }
   ],
   "source": [
    "!pip install parse\n",
    "!pip install iribaker"
   ]
  },
  {
   "cell_type": "code",
   "execution_count": null,
   "id": "1bd12a45-1d24-45a7-82eb-9ad579da8dbc",
   "metadata": {},
   "outputs": [],
   "source": [
    "from rdflib import Graph, Dataset, URIRef, Literal, Namespace, RDF, XSD\n",
    "from rdflib.namespace import OWL, RDF, RDFS\n",
    "from iribaker import to_iri\n",
    "import  pandas as pd\n",
    "import logging\n",
    "from parse import *"
   ]
  },
  {
   "cell_type": "code",
   "execution_count": null,
   "id": "b7382f47-2ba5-4d03-bd0a-2e0aa932aa26",
   "metadata": {},
   "outputs": [
    {
     "data": {
      "text/html": [
       "<div>\n",
       "<style scoped>\n",
       "    .dataframe tbody tr th:only-of-type {\n",
       "        vertical-align: middle;\n",
       "    }\n",
       "\n",
       "    .dataframe tbody tr th {\n",
       "        vertical-align: top;\n",
       "    }\n",
       "\n",
       "    .dataframe thead th {\n",
       "        text-align: right;\n",
       "    }\n",
       "</style>\n",
       "<table border=\"1\" class=\"dataframe\">\n",
       "  <thead>\n",
       "    <tr style=\"text-align: right;\">\n",
       "      <th></th>\n",
       "      <th>sch_id</th>\n",
       "      <th>wd_id</th>\n",
       "      <th>sch_cname</th>\n",
       "      <th>wd_cname</th>\n",
       "    </tr>\n",
       "  </thead>\n",
       "  <tbody>\n",
       "    <tr>\n",
       "      <th>0</th>\n",
       "      <td>http://schema.org/AccountingService</td>\n",
       "      <td>http://www.wikidata.org/wiki/Q23671509</td>\n",
       "      <td>AccountingService</td>\n",
       "      <td>Q23671509</td>\n",
       "    </tr>\n",
       "    <tr>\n",
       "      <th>1</th>\n",
       "      <td>http://schema.org/Action</td>\n",
       "      <td>http://www.wikidata.org/wiki/Q4026292</td>\n",
       "      <td>Action</td>\n",
       "      <td>Q4026292</td>\n",
       "    </tr>\n",
       "    <tr>\n",
       "      <th>2</th>\n",
       "      <td>http://schema.org/AdministrativeArea</td>\n",
       "      <td>http://www.wikidata.org/wiki/Q3455524</td>\n",
       "      <td>AdministrativeArea</td>\n",
       "      <td>Q3455524</td>\n",
       "    </tr>\n",
       "    <tr>\n",
       "      <th>3</th>\n",
       "      <td>http://schema.org/AdministrativeArea</td>\n",
       "      <td>http://www.wikidata.org/wiki/Q56061</td>\n",
       "      <td>AdministrativeArea</td>\n",
       "      <td>Q56061</td>\n",
       "    </tr>\n",
       "    <tr>\n",
       "      <th>4</th>\n",
       "      <td>http://schema.org/Airline</td>\n",
       "      <td>http://www.wikidata.org/wiki/Q46970</td>\n",
       "      <td>Airline</td>\n",
       "      <td>Q46970</td>\n",
       "    </tr>\n",
       "    <tr>\n",
       "      <th>...</th>\n",
       "      <td>...</td>\n",
       "      <td>...</td>\n",
       "      <td>...</td>\n",
       "      <td>...</td>\n",
       "    </tr>\n",
       "    <tr>\n",
       "      <th>312</th>\n",
       "      <td>http://schema.org/Winery</td>\n",
       "      <td>http://www.wikidata.org/wiki/Q156362</td>\n",
       "      <td>Winery</td>\n",
       "      <td>Q156362</td>\n",
       "    </tr>\n",
       "    <tr>\n",
       "      <th>313</th>\n",
       "      <td>http://schema.org/WorkersUnion</td>\n",
       "      <td>http://www.wikidata.org/wiki/Q178790</td>\n",
       "      <td>WorkersUnion</td>\n",
       "      <td>Q178790</td>\n",
       "    </tr>\n",
       "    <tr>\n",
       "      <th>314</th>\n",
       "      <td>http://schema.org/Zoo</td>\n",
       "      <td>http://www.wikidata.org/wiki/Q43501</td>\n",
       "      <td>Zoo</td>\n",
       "      <td>Q43501</td>\n",
       "    </tr>\n",
       "    <tr>\n",
       "      <th>315</th>\n",
       "      <td>http://schema.org/FALSE</td>\n",
       "      <td>http://www.wikidata.org/wiki/Q5432619</td>\n",
       "      <td>FALSE</td>\n",
       "      <td>Q5432619</td>\n",
       "    </tr>\n",
       "    <tr>\n",
       "      <th>316</th>\n",
       "      <td>http://schema.org/TRUE</td>\n",
       "      <td>http://www.wikidata.org/wiki/Q16751793</td>\n",
       "      <td>TRUE</td>\n",
       "      <td>Q16751793</td>\n",
       "    </tr>\n",
       "  </tbody>\n",
       "</table>\n",
       "<p>317 rows × 4 columns</p>\n",
       "</div>"
      ],
      "text/plain": [
       "                                   sch_id  \\\n",
       "0     http://schema.org/AccountingService   \n",
       "1                http://schema.org/Action   \n",
       "2    http://schema.org/AdministrativeArea   \n",
       "3    http://schema.org/AdministrativeArea   \n",
       "4               http://schema.org/Airline   \n",
       "..                                    ...   \n",
       "312              http://schema.org/Winery   \n",
       "313        http://schema.org/WorkersUnion   \n",
       "314                 http://schema.org/Zoo   \n",
       "315               http://schema.org/FALSE   \n",
       "316                http://schema.org/TRUE   \n",
       "\n",
       "                                      wd_id           sch_cname   wd_cname  \n",
       "0    http://www.wikidata.org/wiki/Q23671509   AccountingService  Q23671509  \n",
       "1     http://www.wikidata.org/wiki/Q4026292              Action   Q4026292  \n",
       "2     http://www.wikidata.org/wiki/Q3455524  AdministrativeArea   Q3455524  \n",
       "3       http://www.wikidata.org/wiki/Q56061  AdministrativeArea     Q56061  \n",
       "4       http://www.wikidata.org/wiki/Q46970             Airline     Q46970  \n",
       "..                                      ...                 ...        ...  \n",
       "312    http://www.wikidata.org/wiki/Q156362              Winery    Q156362  \n",
       "313    http://www.wikidata.org/wiki/Q178790        WorkersUnion    Q178790  \n",
       "314     http://www.wikidata.org/wiki/Q43501                 Zoo     Q43501  \n",
       "315   http://www.wikidata.org/wiki/Q5432619               FALSE   Q5432619  \n",
       "316  http://www.wikidata.org/wiki/Q16751793                TRUE  Q16751793  \n",
       "\n",
       "[317 rows x 4 columns]"
      ]
     },
     "execution_count": 33,
     "metadata": {},
     "output_type": "execute_result"
    }
   ],
   "source": []
  },
  {
   "cell_type": "code",
   "execution_count": 4,
   "id": "3bd3eda8-8320-47e6-86b4-0915b2c65c50",
   "metadata": {},
   "outputs": [],
   "source": [
    "\n",
    "from SPARQLWrapper import SPARQLWrapper, JSON\n",
    "def getWDLabel(uri):\n",
    "    sparq1=SPARQLWrapper(\"https://wikidata.demo.openlinksw.com/sparql\")\n",
    "    queryString= \"\"\"\n",
    "        PREFIX rdfs: <http://www.w3.org/2000/01/rdf-schema#> \n",
    "        PREFIX wd: <http://www.wikidata.org/entity/> \n",
    "        SELECT  *\n",
    "        WHERE {\n",
    "        %s rdfs:label ?label .\n",
    "        FILTER (langMatches( lang(?label), \"EN\" ) )\n",
    "      } \n",
    "      limit 1\n",
    "      \"\"\"%(uri)\n",
    "    sparq1.setQuery (queryString)\n",
    "    sparq1.setReturnFormat(JSON)\n",
    "    results=sparq1.query().convert()\n",
    "    for r in results[\"results\"][\"bindings\"]:\n",
    "        return(r[\"label\"][\"value\"])\n",
    "    \n",
    "    \n",
    "def GetClassLabel(URIString):\n",
    "    if len(URIString.split(':')) > 2:\n",
    "        Label = URIString.split(':')[-1]\n",
    "    else:\n",
    "        Label = URIString.split('/')[-1]\n",
    "    return Label\n",
    "    \n",
    "\n"
   ]
  },
  {
   "cell_type": "code",
   "execution_count": null,
   "id": "7db969e1-c332-46e3-8c51-ba778d4a568e",
   "metadata": {},
   "outputs": [
    {
     "data": {
      "text/html": [
       "<div>\n",
       "<style scoped>\n",
       "    .dataframe tbody tr th:only-of-type {\n",
       "        vertical-align: middle;\n",
       "    }\n",
       "\n",
       "    .dataframe tbody tr th {\n",
       "        vertical-align: top;\n",
       "    }\n",
       "\n",
       "    .dataframe thead th {\n",
       "        text-align: right;\n",
       "    }\n",
       "</style>\n",
       "<table border=\"1\" class=\"dataframe\">\n",
       "  <thead>\n",
       "    <tr style=\"text-align: right;\">\n",
       "      <th></th>\n",
       "      <th>sch_id</th>\n",
       "      <th>wd_id</th>\n",
       "      <th>sch_cname</th>\n",
       "      <th>wd_cname</th>\n",
       "    </tr>\n",
       "  </thead>\n",
       "  <tbody>\n",
       "    <tr>\n",
       "      <th>0</th>\n",
       "      <td>http://schema.org/AccountingService</td>\n",
       "      <td>http://www.wikidata.org/wiki/accounting_services</td>\n",
       "      <td>AccountingService</td>\n",
       "      <td>accounting_services</td>\n",
       "    </tr>\n",
       "    <tr>\n",
       "      <th>1</th>\n",
       "      <td>http://schema.org/Action</td>\n",
       "      <td>http://www.wikidata.org/wiki/action</td>\n",
       "      <td>Action</td>\n",
       "      <td>action</td>\n",
       "    </tr>\n",
       "    <tr>\n",
       "      <th>2</th>\n",
       "      <td>http://schema.org/Airline</td>\n",
       "      <td>http://www.wikidata.org/wiki/airline</td>\n",
       "      <td>Airline</td>\n",
       "      <td>airline</td>\n",
       "    </tr>\n",
       "    <tr>\n",
       "      <th>3</th>\n",
       "      <td>http://schema.org/Airport</td>\n",
       "      <td>http://www.wikidata.org/wiki/airport</td>\n",
       "      <td>Airport</td>\n",
       "      <td>airport</td>\n",
       "    </tr>\n",
       "    <tr>\n",
       "      <th>4</th>\n",
       "      <td>http://schema.org/AmusementPark</td>\n",
       "      <td>http://www.wikidata.org/wiki/amusement_park</td>\n",
       "      <td>AmusementPark</td>\n",
       "      <td>amusement_park</td>\n",
       "    </tr>\n",
       "    <tr>\n",
       "      <th>...</th>\n",
       "      <td>...</td>\n",
       "      <td>...</td>\n",
       "      <td>...</td>\n",
       "      <td>...</td>\n",
       "    </tr>\n",
       "    <tr>\n",
       "      <th>299</th>\n",
       "      <td>http://schema.org/Winery</td>\n",
       "      <td>http://www.wikidata.org/wiki/winery</td>\n",
       "      <td>Winery</td>\n",
       "      <td>winery</td>\n",
       "    </tr>\n",
       "    <tr>\n",
       "      <th>300</th>\n",
       "      <td>http://schema.org/WorkersUnion</td>\n",
       "      <td>http://www.wikidata.org/wiki/labor_union</td>\n",
       "      <td>WorkersUnion</td>\n",
       "      <td>labor_union</td>\n",
       "    </tr>\n",
       "    <tr>\n",
       "      <th>301</th>\n",
       "      <td>http://schema.org/Zoo</td>\n",
       "      <td>http://www.wikidata.org/wiki/zoo</td>\n",
       "      <td>Zoo</td>\n",
       "      <td>zoo</td>\n",
       "    </tr>\n",
       "    <tr>\n",
       "      <th>302</th>\n",
       "      <td>http://schema.org/FALSE</td>\n",
       "      <td>http://www.wikidata.org/wiki/false</td>\n",
       "      <td>FALSE</td>\n",
       "      <td>false</td>\n",
       "    </tr>\n",
       "    <tr>\n",
       "      <th>303</th>\n",
       "      <td>http://schema.org/TRUE</td>\n",
       "      <td>http://www.wikidata.org/wiki/true</td>\n",
       "      <td>TRUE</td>\n",
       "      <td>true</td>\n",
       "    </tr>\n",
       "  </tbody>\n",
       "</table>\n",
       "<p>304 rows × 4 columns</p>\n",
       "</div>"
      ],
      "text/plain": [
       "                                  sch_id  \\\n",
       "0    http://schema.org/AccountingService   \n",
       "1               http://schema.org/Action   \n",
       "2              http://schema.org/Airline   \n",
       "3              http://schema.org/Airport   \n",
       "4        http://schema.org/AmusementPark   \n",
       "..                                   ...   \n",
       "299             http://schema.org/Winery   \n",
       "300       http://schema.org/WorkersUnion   \n",
       "301                http://schema.org/Zoo   \n",
       "302              http://schema.org/FALSE   \n",
       "303               http://schema.org/TRUE   \n",
       "\n",
       "                                                wd_id          sch_cname  \\\n",
       "0    http://www.wikidata.org/wiki/accounting_services  AccountingService   \n",
       "1                 http://www.wikidata.org/wiki/action             Action   \n",
       "2                http://www.wikidata.org/wiki/airline            Airline   \n",
       "3                http://www.wikidata.org/wiki/airport            Airport   \n",
       "4         http://www.wikidata.org/wiki/amusement_park      AmusementPark   \n",
       "..                                                ...                ...   \n",
       "299               http://www.wikidata.org/wiki/winery             Winery   \n",
       "300          http://www.wikidata.org/wiki/labor_union       WorkersUnion   \n",
       "301                  http://www.wikidata.org/wiki/zoo                Zoo   \n",
       "302                http://www.wikidata.org/wiki/false              FALSE   \n",
       "303                 http://www.wikidata.org/wiki/true               TRUE   \n",
       "\n",
       "                wd_cname  \n",
       "0    accounting_services  \n",
       "1                 action  \n",
       "2                airline  \n",
       "3                airport  \n",
       "4         amusement_park  \n",
       "..                   ...  \n",
       "299               winery  \n",
       "300          labor_union  \n",
       "301                  zoo  \n",
       "302                false  \n",
       "303                 true  \n",
       "\n",
       "[304 rows x 4 columns]"
      ]
     },
     "execution_count": 4,
     "metadata": {},
     "output_type": "execute_result"
    }
   ],
   "source": [
    "#mapping.to_csv('wd_class_name_mapping.csv')\n",
    "mapping=pd.read_csv('wd_class_name_mapping.csv',index_col=0)\n",
    "mapping"
   ]
  },
  {
   "cell_type": "code",
   "execution_count": null,
   "id": "d695b7c8-48a4-42a4-b720-43d966773d82",
   "metadata": {},
   "outputs": [],
   "source": []
  },
  {
   "cell_type": "code",
   "execution_count": 4,
   "id": "47070e79-b953-49e3-a177-b8220017dada",
   "metadata": {},
   "outputs": [],
   "source": [
    "#reading dataset from csv\n",
    "#fileName='YAGO_instances.csv'\n",
    "\n",
    "fileName=\"WikiData_instances.csv\"\n",
    "df=pd.read_csv(fileName)\n",
    "\n",
    "#A namespace for our resources\n",
    "#data = 'https://yago-knowledge.org/resource/'\n",
    "data='http://www.wikidata.org/wiki/resource/'\n",
    "\n",
    "\n",
    "DATA = Namespace(data)\n",
    "\n",
    "# A namespace for the schema (Classes)\n",
    "#schema ='http://schema.org/'\n",
    "schema='http://www.wikidata.org/wiki/'\n",
    "\n",
    "CLASS = Namespace(schema)\n",
    "\n",
    "# Creating a graph\n",
    "graph = Graph()\n",
    "graph.bind(\"owl\", OWL)\n",
    "graph.bind(\"rdfs\", RDFS)"
   ]
  },
  {
   "cell_type": "code",
   "execution_count": 5,
   "id": "5f393f77-8298-48e0-a232-0c1d83cb4037",
   "metadata": {},
   "outputs": [],
   "source": [
    "Del=['educational_organization', 'landform']\n",
    "df=df[~df['Class_Name'].isin(Del)]\n",
    "ClassList=[]\n",
    "ClassList=mapping['wd_cname'].unique()\n",
    "#ClassList=df['Class_Name'].unique()"
   ]
  },
  {
   "cell_type": "code",
   "execution_count": null,
   "id": "ec6e8d11-8f88-404e-9ac9-50a449986770",
   "metadata": {},
   "outputs": [
    {
     "data": {
      "text/plain": [
       "304"
      ]
     },
     "execution_count": 6,
     "metadata": {},
     "output_type": "execute_result"
    }
   ],
   "source": [
    "len(ClassList)"
   ]
  },
  {
   "cell_type": "code",
   "execution_count": 7,
   "id": "d92f8a8b-79bb-443b-adc8-98ced6ee9542",
   "metadata": {},
   "outputs": [
    {
     "data": {
      "text/plain": [
       "set()"
      ]
     },
     "execution_count": 7,
     "metadata": {},
     "output_type": "execute_result"
    }
   ],
   "source": [
    "df=df.dropna()\n",
    "a=mapping['wd_cname'].unique()\n",
    "b=df['Class_Name'].unique()\n",
    "set(b).difference(set(a))"
   ]
  },
  {
   "cell_type": "code",
   "execution_count": 8,
   "id": "9580931c-46e3-440d-bd2e-b94c298b1759",
   "metadata": {},
   "outputs": [],
   "source": [
    "for i in ClassList:\n",
    "    #adding classes to the graph\n",
    "    classN = URIRef(to_iri(schema + str(i)))\n",
    "    name = Literal(i, datatype=XSD['string']) #the class name label\n",
    "    graph.add((classN, RDF.type, OWL.Class))\n",
    "    #graph.add((classN, RDF.type, RDFS.Class))\n",
    "    graph.add((classN, RDFS.label, name))"
   ]
  },
  {
   "cell_type": "code",
   "execution_count": 9,
   "id": "0efbcbb9-df66-4008-89ef-68949561e69e",
   "metadata": {},
   "outputs": [],
   "source": [
    "from random import sample\n",
    "\n",
    "#df=df.groupby('Class_Name', as_index=False, group_keys=False).apply(lambda x: x.sample(min(500, len(x))))\n",
    "\n",
    "for i in df.Class_Name.unique():\n",
    "    MyList=list(df.loc[df['Class_Name'] == i, 'Instance_Name'])\n",
    "    #if len(MyList)>50: this is used to create the samller version\n",
    "     #   MyList=sample(MyList,50)    \n",
    "    # adding instances of a class to the graph\n",
    "    classN = URIRef(to_iri(schema + str(i)))\n",
    "    for c in range(len(MyList)):\n",
    "        try:\n",
    "            MyList[c]= MyList[c].strip(' \" ').replace(\" ' \",'')\n",
    "            instance = URIRef(to_iri(data + MyList[c]))\n",
    "            graph.add((instance, RDF.type, classN ))\n",
    "            instanceLabel=Literal(MyList[c], datatype=XSD['string']) #creating the label\n",
    "            graph.add((instance, RDFS.label,instanceLabel))\n",
    "        except AttributeError:\n",
    "            pass\n",
    "\n",
    "  "
   ]
  },
  {
   "cell_type": "code",
   "execution_count": 10,
   "id": "21865ab7-1730-4de0-b564-2f10c38a8372",
   "metadata": {},
   "outputs": [],
   "source": [
    "#outFile = 'TestCase/source.xml'\n",
    "outFile= '/YWtestCase/target.rdf'\n",
    "#'smallYWtestCase/target.xml'\n",
    "with open(outFile, 'wb') as f:\n",
    "    graph.serialize(f, format='xml')"
   ]
  },
  {
   "cell_type": "code",
   "execution_count": 13,
   "id": "af3cffad-b846-4716-b1dc-5ec6327ddb5c",
   "metadata": {},
   "outputs": [
    {
     "name": "stdout",
     "output_type": "stream",
     "text": [
      "304\n"
     ]
    }
   ],
   "source": [
    "classes=[]\n",
    "for s, p, o in graph.triples((None, RDF.type, OWL.Class)):\n",
    "    classes.append(str(s))\n",
    "s=set(classes)\n",
    "print(len(s))"
   ]
  },
  {
   "cell_type": "code",
   "execution_count": null,
   "id": "adea33cb-ab5c-4211-a14e-de092bb9b481",
   "metadata": {},
   "outputs": [],
   "source": []
  },
  {
   "cell_type": "code",
   "execution_count": null,
   "id": "75f6df65-4bbd-47a1-96fb-cbcab3d6a9ce",
   "metadata": {},
   "outputs": [
    {
     "ename": "AttributeError",
     "evalue": "'DataFrameGroupBy' object has no attribute 'counts'",
     "output_type": "error",
     "traceback": [
      "\u001b[0;31m---------------------------------------------------------------------------\u001b[0m",
      "\u001b[0;31mAttributeError\u001b[0m                            Traceback (most recent call last)",
      "\u001b[0;32m<ipython-input-38-c742b0111cfe>\u001b[0m in \u001b[0;36m<module>\u001b[0;34m\u001b[0m\n\u001b[0;32m----> 1\u001b[0;31m \u001b[0mdf\u001b[0m\u001b[0;34m.\u001b[0m\u001b[0mgroupby\u001b[0m\u001b[0;34m(\u001b[0m\u001b[0;34m'Class_Name'\u001b[0m\u001b[0;34m)\u001b[0m\u001b[0;34m.\u001b[0m\u001b[0mcounts\u001b[0m\u001b[0;34m\u001b[0m\u001b[0;34m\u001b[0m\u001b[0m\n\u001b[0m",
      "\u001b[0;32m~/anaconda3/lib/python3.8/site-packages/pandas/core/groupby/groupby.py\u001b[0m in \u001b[0;36m__getattr__\u001b[0;34m(self, attr)\u001b[0m\n\u001b[1;32m    750\u001b[0m             \u001b[0;32mreturn\u001b[0m \u001b[0mself\u001b[0m\u001b[0;34m[\u001b[0m\u001b[0mattr\u001b[0m\u001b[0;34m]\u001b[0m\u001b[0;34m\u001b[0m\u001b[0;34m\u001b[0m\u001b[0m\n\u001b[1;32m    751\u001b[0m \u001b[0;34m\u001b[0m\u001b[0m\n\u001b[0;32m--> 752\u001b[0;31m         raise AttributeError(\n\u001b[0m\u001b[1;32m    753\u001b[0m             \u001b[0;34mf\"'{type(self).__name__}' object has no attribute '{attr}'\"\u001b[0m\u001b[0;34m\u001b[0m\u001b[0;34m\u001b[0m\u001b[0m\n\u001b[1;32m    754\u001b[0m         )\n",
      "\u001b[0;31mAttributeError\u001b[0m: 'DataFrameGroupBy' object has no attribute 'counts'"
     ]
    }
   ],
   "source": [
    "df.groupby('Class_Name').counts"
   ]
  },
  {
   "cell_type": "code",
   "execution_count": null,
   "id": "80ae1268-0345-4028-aa7d-03a456f7cf15",
   "metadata": {},
   "outputs": [
    {
     "ename": "SyntaxError",
     "evalue": "invalid syntax (<ipython-input-51-6c0b360dbaf8>, line 1)",
     "output_type": "error",
     "traceback": [
      "\u001b[0;36m  File \u001b[0;32m\"<ipython-input-51-6c0b360dbaf8>\"\u001b[0;36m, line \u001b[0;32m1\u001b[0m\n\u001b[0;31m    df=df.groupby('Class_Name').apply(lambda x: x.sample(5000) if len(x)> 4000)\u001b[0m\n\u001b[0m                                                                              ^\u001b[0m\n\u001b[0;31mSyntaxError\u001b[0m\u001b[0;31m:\u001b[0m invalid syntax\n"
     ]
    }
   ],
   "source": [
    "df=df.groupby('Class_Name').apply(lambda x: x.sample(5000) if len(x)> 4000)\n"
   ]
  }
 ],
 "metadata": {
  "kernelspec": {
   "display_name": "Python 3",
   "language": "python",
   "name": "python3"
  },
  "language_info": {
   "codemirror_mode": {
    "name": "ipython",
    "version": 3
   },
   "file_extension": ".py",
   "mimetype": "text/x-python",
   "name": "python",
   "nbconvert_exporter": "python",
   "pygments_lexer": "ipython3",
   "version": "3.8.8"
  }
 },
 "nbformat": 4,
 "nbformat_minor": 5
}
