{
 "cells": [
  {
   "cell_type": "code",
   "execution_count": 42,
   "id": "72abb035-9e4d-4a2c-a02a-e1ed7d684f0d",
   "metadata": {},
   "outputs": [],
   "source": [
    "from xml.sax.saxutils import quoteattr\n",
    "from sklearn.metrics import cohen_kappa_score\n",
    "import xml.etree.ElementTree as ET\n",
    "\n",
    "import pandas as pd\n"
   ]
  },
  {
   "cell_type": "code",
   "execution_count": 43,
   "id": "6a9c39b1-63a4-4d80-9630-7a972c57259a",
   "metadata": {},
   "outputs": [],
   "source": [
    "\n",
    "def get_file_header():\n",
    "    return \"\"\"<?xml version=\\\"1.0\\\" encoding=\\\"utf-8\\\"?>\n",
    "    <rdf:RDF xmlns=\"http://knowledgeweb.semanticweb.org/heterogeneity/alignment\"\n",
    "      xmlns:rdf=\"http://www.w3.org/1999/02/22-rdf-syntax-ns#\"\n",
    "      xmlns:xsd=\"http://www.w3.org/2001/XMLSchema#\">\n",
    "<Alignment>\n",
    "  <xml>yes</xml>\n",
    "  <level>0</level>\n",
    "  <type>??</type>\"\"\"\n",
    "\n",
    "def get_mapping_format(source, target, measure):\n",
    "    relation= '='\n",
    "    return \"\"\"\n",
    "  <map>\n",
    "    <Cell>\n",
    "      <entity1 rdf:resource=%s/>\n",
    "      <entity2 rdf:resource=%s/>\n",
    "      <relation>%s</relation>\n",
    "      <measure rdf:datatype=\"xsd:float\">%.1f</measure>\n",
    "    </Cell>\n",
    "  </map>\"\"\" %(quoteattr(source), quoteattr(target), '=', float(measure))\n",
    "#(quoteattr(source), quoteattr(target), relation, measure)\n",
    "\n",
    "def _get_file_footer():\n",
    "    return \"\"\"\n",
    "  </Alignment>\n",
    "</rdf:RDF>\n",
    "\"\"\"\n",
    "\n",
    "def writeAlignments(file, df):\n",
    "    #df=pd.read_csv(alignments)\n",
    "    #df=df.drop_duplicates(subset=['Class_Name_1', 'Class_Name_2'], keep='first')\n",
    "\n",
    "    with open(file, 'w', encoding='utf-8') as Myfile:\n",
    "        Myfile.write(get_file_header())\n",
    "        for i in range(len(df)):\n",
    "            Myfile.write(get_mapping_format(df.loc[i,'sch_id'], df.loc[i,'wd_id'],'1.0'))\n",
    "        Myfile.write(_get_file_footer())\n",
    "\n"
   ]
  },
  {
   "cell_type": "code",
   "execution_count": 44,
   "id": "d44e911d-a471-47ca-8543-1e304b54b8ab",
   "metadata": {},
   "outputs": [],
   "source": [
    "FilePath ='YWtestCase/reference.xml'\n",
    "df = pd.read_csv('wd_class_name_mapping.csv', index_col=0)\n",
    "#print(df)new_WYmapping.csv\n",
    "#wd_class_name_mapping"
   ]
  },
  {
   "cell_type": "code",
   "execution_count": null,
   "id": "6926947e-ee84-43fb-bba1-12d2a9e995b7",
   "metadata": {},
   "outputs": [],
   "source": [
    "def GetClassLabel(URIString):\n",
    "    if len(URIString.split(':')) > 2:\n",
    "        Label = URIString.split(':')[-1]\n",
    "    else:\n",
    "        Label = URIString.split('/')[-1]\n",
    "    return Label\n",
    "    \n",
    "df['sch_cname']=[GetClassLabel(i) for i in df['sch_id']]\n",
    "df['wd_cname']=[i.rsplit('/',1)[1] for i in df['wd_id']]\n",
    "df"
   ]
  },
  {
   "cell_type": "code",
   "execution_count": 31,
   "id": "abf602bd-2b3c-42f9-a305-262e6db15d2a",
   "metadata": {},
   "outputs": [],
   "source": [
    "#Removing 2-to-1 mappings\n",
    "#Del=['AdministrativeArea', 'BarOrPub', 'Physiotherapy','PhysicalTherapy', 'Place', 'BodyOfWater', 'Service']\n",
    "#df=df[~df['sch_cname'].isin(Del)]\n",
    "#df = df.reset_index(drop=True)\n",
    "#df.to_csv('wd_class_name_mapping.csv')"
   ]
  },
  {
   "cell_type": "code",
   "execution_count": 46,
   "id": "aa07eaa1-2439-4e93-bb0d-17a0959fc5ec",
   "metadata": {},
   "outputs": [],
   "source": [
    "writeAlignments(FilePath, df)"
   ]
  }
 ],
 "metadata": {
  "kernelspec": {
   "display_name": "Python 3",
   "language": "python",
   "name": "python3"
  },
  "language_info": {
   "codemirror_mode": {
    "name": "ipython",
    "version": 3
   },
   "file_extension": ".py",
   "mimetype": "text/x-python",
   "name": "python",
   "nbconvert_exporter": "python",
   "pygments_lexer": "ipython3",
   "version": "3.8.8"
  }
 },
 "nbformat": 4,
 "nbformat_minor": 5
}
