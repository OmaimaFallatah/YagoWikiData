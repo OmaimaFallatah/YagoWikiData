{
 "cells": [
  {
   "cell_type": "code",
   "execution_count": 1,
   "id": "8a53a962-9296-4bcc-893b-8157f50dd5ea",
   "metadata": {},
   "outputs": [],
   "source": [
    "import rdflib\n",
    "import csv\n",
    "from json import JSONDecodeError\n",
    "from SPARQLWrapper import SPARQLWrapper, JSON\n",
    "\n",
    "from rdflib import Graph\n",
    "import pandas as pd"
   ]
  },
  {
   "cell_type": "code",
   "execution_count": 2,
   "id": "7df3200f-ef99-4ce5-8dac-bf3edd9e40c6",
   "metadata": {},
   "outputs": [],
   "source": [
    "def GetClassLabel(URIString):\n",
    "    if len(URIString.split(':')) > 2:\n",
    "        Label = URIString.split(':')[-1]\n",
    "    else:\n",
    "        Label = URIString.split('/')[-1]\n",
    "    return Label\n",
    "    "
   ]
  },
  {
   "cell_type": "code",
   "execution_count": 3,
   "id": "2fd2b71b-4e08-4ed6-a73d-704b6334202d",
   "metadata": {},
   "outputs": [],
   "source": [
    "mapping=pd.read_csv('../wd_class_name_mapping.csv', index_col=0)"
   ]
  },
  {
   "cell_type": "code",
   "execution_count": 9,
   "id": "74fe7d3d-b040-46b6-ad5f-cb2cd62f3d39",
   "metadata": {},
   "outputs": [],
   "source": [
    "\n",
    "\n",
    "ClassList = list(mapping['sch_id'])\n",
    "sparq1 = SPARQLWrapper(\"https://yago-knowledge.org/sparql/query\")\n",
    "\n",
    "with open('YAGO_instances.csv', 'w') as f:\n",
    "    writer = csv.writer(f, delimiter=',', quotechar='\"', quoting=csv.QUOTE_MINIMAL)\n",
    "    line = ['Class_Name', 'Class_URI', 'Instance_Name', 'Instance_URI']\n",
    "    writer.writerow(line)\n",
    "    for className in ClassList:\n",
    "        MyList = []\n",
    "        try:\n",
    "            queryString = \"\"\"\n",
    "            PREFIX rdf: <http://www.w3.org/1999/02/22-rdf-syntax-ns#>\n",
    "            PREFIX rdfs: <http://www.w3.org/2000/01/rdf-schema#>\n",
    "            PREFIX owl:<http://www.w3.org/2002/07/owl#>\n",
    "\n",
    "\n",
    "            SELECT ?name\n",
    "            WHERE {\n",
    "             ?entity a  <http://schema.org/%s> .\n",
    "             ?entity rdfs:label ?name.\n",
    "              Filter (lang(?name)=\"en\")\n",
    "            }\n",
    "                                        \"\"\" %(GetClassLabel(className))\n",
    "            sparq1.setQuery(queryString)\n",
    "            sparq1.setReturnFormat(JSON)\n",
    "            results = sparq1.query().convert()\n",
    "\n",
    "        except (TypeError, JSONDecodeError):\n",
    "            continue\n",
    "\n",
    "        if results == None:\n",
    "            continue\n",
    "        \n",
    "        else:\n",
    "            for r in results[\"results\"][\"bindings\"]:\n",
    "                MyList.append(r[\"name\"][\"value\"])\n",
    "\n",
    "            for i in range(len(MyList)):\n",
    "                MyList[i] = MyList[i].replace(' ', '_')\n",
    "                line = []\n",
    "                line.append(GetClassLabel(className))\n",
    "                line.append(className)\n",
    "                line.append(GetClassLabel(MyList[i]))\n",
    "                line.append(MyList[i])\n",
    "                writer.writerow(line)"
   ]
  },
  {
   "cell_type": "code",
   "execution_count": 10,
   "id": "1162a01d-5762-44b1-9e94-08f0b9a677c4",
   "metadata": {},
   "outputs": [],
   "source": [
    "df=pd.read_csv('YAGO_instances.csv')\n",
    "len(df.Class_Name.unique())\n",
    "df['Instance_URI']=['https://yago-knowledge.org/resource/'+str(i) for i in df['Instance_URI']]\n",
    "#df.to_csv('YAGO_Dataset.csv')"
   ]
  }
 ],
 "metadata": {
  "kernelspec": {
   "display_name": "Python 3",
   "language": "python",
   "name": "python3"
  },
  "language_info": {
   "codemirror_mode": {
    "name": "ipython",
    "version": 3
   },
   "file_extension": ".py",
   "mimetype": "text/x-python",
   "name": "python",
   "nbconvert_exporter": "python",
   "pygments_lexer": "ipython3",
   "version": "3.8.8"
  }
 },
 "nbformat": 4,
 "nbformat_minor": 5
}
